{
 "cells": [
  {
   "cell_type": "code",
   "execution_count": 1,
   "metadata": {},
   "outputs": [],
   "source": [
    "import json\n",
    "import matplotlib.pyplot as plt\n",
    "from scipy.spatial import ConvexHull"
   ]
  },
  {
   "cell_type": "code",
   "execution_count": 2,
   "metadata": {},
   "outputs": [],
   "source": [
    "def find_feature_by_osm_id(geojson_data, osm_id):\n",
    "    \"\"\"\n",
    "    Find a feature in the GeoJSON data by its osm_id or osm_way_id.\n",
    "    \"\"\"\n",
    "    for feature in geojson_data[\"features\"]:\n",
    "        if \"properties\" in feature and (\"osm_id\" in feature[\"properties\"] or \"osm_way_id\" in feature[\"properties\"]):\n",
    "            if \"osm_id\" in feature[\"properties\"] and feature[\"properties\"][\"osm_id\"] == osm_id:\n",
    "                return feature\n",
    "            elif \"osm_way_id\" in feature[\"properties\"] and feature[\"properties\"][\"osm_way_id\"] == osm_id:\n",
    "                return feature\n",
    "    return None"
   ]
  },
  {
   "cell_type": "code",
   "execution_count": 3,
   "metadata": {},
   "outputs": [],
   "source": [
    "def find_feature(input_file,id):\n",
    "    with open(input_file, 'r', encoding='utf-8') as f:\n",
    "        geojson_data = json.load(f)\n",
    "    feature = find_feature_by_osm_id(geojson_data, id)\n",
    "    return feature"
   ]
  },
  {
   "cell_type": "code",
   "execution_count": 4,
   "metadata": {},
   "outputs": [],
   "source": [
    "def pretty_print(feature):\n",
    "    pretty_json = json.dumps(feature, indent=4)\n",
    "    print(pretty_json)"
   ]
  },
  {
   "cell_type": "code",
   "execution_count": 5,
   "metadata": {},
   "outputs": [],
   "source": [
    "def extract_coordinates(feature):\n",
    "    \"\"\"\n",
    "    Extract x and y coordinates from the feature.\n",
    "    \"\"\"\n",
    "    if \"geometry\" in feature and \"coordinates\" in feature[\"geometry\"]:\n",
    "        coordinates = feature[\"geometry\"][\"coordinates\"]\n",
    "        return coordinates[0]\n",
    "    return None"
   ]
  },
  {
   "cell_type": "code",
   "execution_count": 6,
   "metadata": {},
   "outputs": [],
   "source": [
    "def plot(feature):\n",
    "    sets = extract_coordinates(feature)\n",
    "        \n",
    "    if sets:\n",
    "        # Assuming `sets` is a list of sets, each containing x, y coordinates\n",
    "\n",
    "        plt.gca().set_aspect('equal')\n",
    "        colors = ['r', 'g', 'b', 'c', 'm', 'y', 'k', 'orange', 'purple', 'brown', 'pink', 'gray', 'olive', 'cyan']  \n",
    "        # List of colors to alternate\n",
    "        for set in sets:\n",
    "            \n",
    "            hull = ConvexHull(set)\n",
    "            hull_points = [set[vertex] for vertex in hull.vertices]\n",
    "            \n",
    "            x1, y1 = zip(*set)\n",
    "            \n",
    "            plt.plot(x1, y1, marker='o', linestyle='-')\n",
    "            for x, y in set:\n",
    "                plt.text(x, y, f'({x:.4f}, {y:.4f})', fontsize=8)\n",
    "            \n",
    "            plt.plot([point[0] for point in hull_points], [point[1] for point in hull_points], 'ro-', label='Convex Hull Points')\n",
    "\n",
    "        plt.legend()\n",
    "        plt.show()"
   ]
  },
  {
   "cell_type": "code",
   "execution_count": 7,
   "metadata": {},
   "outputs": [
    {
     "ename": "TypeError",
     "evalue": "argument of type 'NoneType' is not iterable",
     "output_type": "error",
     "traceback": [
      "\u001b[1;31m---------------------------------------------------------------------------\u001b[0m",
      "\u001b[1;31mTypeError\u001b[0m                                 Traceback (most recent call last)",
      "Cell \u001b[1;32mIn[7], line 5\u001b[0m\n\u001b[0;32m      2\u001b[0m ID \u001b[38;5;241m=\u001b[39m \u001b[38;5;124m\"\u001b[39m\u001b[38;5;124m1211372897\u001b[39m\u001b[38;5;124m\"\u001b[39m\n\u001b[0;32m      4\u001b[0m feature \u001b[38;5;241m=\u001b[39m find_feature(input_file,ID)\n\u001b[1;32m----> 5\u001b[0m \u001b[43mplot\u001b[49m\u001b[43m(\u001b[49m\u001b[43mfeature\u001b[49m\u001b[43m)\u001b[49m\n\u001b[0;32m      6\u001b[0m pretty_print(feature)\n",
      "Cell \u001b[1;32mIn[6], line 2\u001b[0m, in \u001b[0;36mplot\u001b[1;34m(feature)\u001b[0m\n\u001b[0;32m      1\u001b[0m \u001b[38;5;28;01mdef\u001b[39;00m \u001b[38;5;21mplot\u001b[39m(feature):\n\u001b[1;32m----> 2\u001b[0m     sets \u001b[38;5;241m=\u001b[39m \u001b[43mextract_coordinates\u001b[49m\u001b[43m(\u001b[49m\u001b[43mfeature\u001b[49m\u001b[43m)\u001b[49m\n\u001b[0;32m      4\u001b[0m     \u001b[38;5;28;01mif\u001b[39;00m sets:\n\u001b[0;32m      5\u001b[0m         \u001b[38;5;66;03m# Assuming `sets` is a list of sets, each containing x, y coordinates\u001b[39;00m\n\u001b[0;32m      7\u001b[0m         plt\u001b[38;5;241m.\u001b[39mgca()\u001b[38;5;241m.\u001b[39mset_aspect(\u001b[38;5;124m'\u001b[39m\u001b[38;5;124mequal\u001b[39m\u001b[38;5;124m'\u001b[39m)\n",
      "Cell \u001b[1;32mIn[5], line 5\u001b[0m, in \u001b[0;36mextract_coordinates\u001b[1;34m(feature)\u001b[0m\n\u001b[0;32m      1\u001b[0m \u001b[38;5;28;01mdef\u001b[39;00m \u001b[38;5;21mextract_coordinates\u001b[39m(feature):\n\u001b[0;32m      2\u001b[0m \u001b[38;5;250m    \u001b[39m\u001b[38;5;124;03m\"\"\"\u001b[39;00m\n\u001b[0;32m      3\u001b[0m \u001b[38;5;124;03m    Extract x and y coordinates from the feature.\u001b[39;00m\n\u001b[0;32m      4\u001b[0m \u001b[38;5;124;03m    \"\"\"\u001b[39;00m\n\u001b[1;32m----> 5\u001b[0m     \u001b[38;5;28;01mif\u001b[39;00m \u001b[38;5;124;43m\"\u001b[39;49m\u001b[38;5;124;43mgeometry\u001b[39;49m\u001b[38;5;124;43m\"\u001b[39;49m\u001b[43m \u001b[49m\u001b[38;5;129;43;01min\u001b[39;49;00m\u001b[43m \u001b[49m\u001b[43mfeature\u001b[49m \u001b[38;5;129;01mand\u001b[39;00m \u001b[38;5;124m\"\u001b[39m\u001b[38;5;124mcoordinates\u001b[39m\u001b[38;5;124m\"\u001b[39m \u001b[38;5;129;01min\u001b[39;00m feature[\u001b[38;5;124m\"\u001b[39m\u001b[38;5;124mgeometry\u001b[39m\u001b[38;5;124m\"\u001b[39m]:\n\u001b[0;32m      6\u001b[0m         coordinates \u001b[38;5;241m=\u001b[39m feature[\u001b[38;5;124m\"\u001b[39m\u001b[38;5;124mgeometry\u001b[39m\u001b[38;5;124m\"\u001b[39m][\u001b[38;5;124m\"\u001b[39m\u001b[38;5;124mcoordinates\u001b[39m\u001b[38;5;124m\"\u001b[39m]\n\u001b[0;32m      7\u001b[0m         \u001b[38;5;28;01mreturn\u001b[39;00m coordinates[\u001b[38;5;241m0\u001b[39m]\n",
      "\u001b[1;31mTypeError\u001b[0m: argument of type 'NoneType' is not iterable"
     ]
    }
   ],
   "source": [
    "input_file = 'noparking.geojson'\n",
    "ID = \"1211372897\"\n",
    "\n",
    "feature = find_feature(input_file,ID)\n",
    "plot(feature)\n",
    "pretty_print(feature)"
   ]
  }
 ],
 "metadata": {
  "kernelspec": {
   "display_name": "Python 3",
   "language": "python",
   "name": "python3"
  },
  "language_info": {
   "codemirror_mode": {
    "name": "ipython",
    "version": 3
   },
   "file_extension": ".py",
   "mimetype": "text/x-python",
   "name": "python",
   "nbconvert_exporter": "python",
   "pygments_lexer": "ipython3",
   "version": "3.12.1"
  }
 },
 "nbformat": 4,
 "nbformat_minor": 2
}
