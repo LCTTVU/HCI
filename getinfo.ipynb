{
 "cells": [
  {
   "cell_type": "code",
   "execution_count": null,
   "metadata": {},
   "outputs": [],
   "source": [
    "import json\n",
    "import matplotlib.pyplot as plt\n",
    "from scipy.spatial import ConvexHull"
   ]
  },
  {
   "cell_type": "code",
   "execution_count": null,
   "metadata": {},
   "outputs": [],
   "source": [
    "def find_feature_by_osm_id(geojson_data, osm_id):\n",
    "    \"\"\"\n",
    "    Find a feature in the GeoJSON data by its osm_id or osm_way_id.\n",
    "    \"\"\"\n",
    "    for feature in geojson_data[\"features\"]:\n",
    "        if \"properties\" in feature and (\"osm_id\" in feature[\"properties\"] or \"osm_way_id\" in feature[\"properties\"]):\n",
    "            if \"osm_id\" in feature[\"properties\"] and feature[\"properties\"][\"osm_id\"] == osm_id:\n",
    "                return feature\n",
    "            elif \"osm_way_id\" in feature[\"properties\"] and feature[\"properties\"][\"osm_way_id\"] == osm_id:\n",
    "                return feature\n",
    "    return None"
   ]
  },
  {
   "cell_type": "code",
   "execution_count": null,
   "metadata": {},
   "outputs": [],
   "source": [
    "def find_feature(input_file,id):\n",
    "    with open(input_file, 'r', encoding='utf-8') as f:\n",
    "        geojson_data = json.load(f)\n",
    "    feature = find_feature_by_osm_id(geojson_data, id)\n",
    "    return feature"
   ]
  },
  {
   "cell_type": "code",
   "execution_count": null,
   "metadata": {},
   "outputs": [],
   "source": [
    "def pretty_print(feature):\n",
    "    pretty_json = json.dumps(feature, indent=4)\n",
    "    print(pretty_json)"
   ]
  },
  {
   "cell_type": "code",
   "execution_count": null,
   "metadata": {},
   "outputs": [],
   "source": [
    "def extract_coordinates(feature):\n",
    "    \"\"\"\n",
    "    Extract x and y coordinates from the feature.\n",
    "    \"\"\"\n",
    "    if \"geometry\" in feature and \"coordinates\" in feature[\"geometry\"]:\n",
    "        coordinates = feature[\"geometry\"][\"coordinates\"]\n",
    "        return coordinates[0][0]\n",
    "    return None"
   ]
  },
  {
   "cell_type": "code",
   "execution_count": null,
   "metadata": {},
   "outputs": [],
   "source": [
    "def plot(feature):\n",
    "    set = extract_coordinates(feature)\n",
    "    plt.gca().set_aspect('equal')\n",
    "    colors = ['r', 'g', 'b', 'c', 'm', 'y', 'k', 'orange', 'purple', 'brown', 'pink', 'gray', 'olive', 'cyan']  \n",
    "    # List of colors to alternate\n",
    "        \n",
    "    hull = ConvexHull(set)\n",
    "    hull_points = [set[vertex] for vertex in hull.vertices]\n",
    "    \n",
    "    x1, y1 = zip(*set)\n",
    "    \n",
    "    plt.plot(x1, y1, marker='o', linestyle='-')\n",
    "    for x, y in set:\n",
    "        plt.text(x, y, f'({x:.4f}, {y:.4f})', fontsize=8)\n",
    "    \n",
    "    plt.plot([point[0] for point in hull_points], [point[1] for point in hull_points], 'ro-', label='Convex Hull Points')\n",
    "\n",
    "    plt.legend()\n",
    "    plt.show()"
   ]
  },
  {
   "cell_type": "code",
   "execution_count": null,
   "metadata": {},
   "outputs": [],
   "source": []
  },
  {
   "cell_type": "code",
   "execution_count": null,
   "metadata": {},
   "outputs": [],
   "source": [
    "input_file = 'q.geojson'\n",
    "ID = \"6859251\"\n",
    "\n",
    "feature = find_feature(input_file,ID)\n",
    "plot(feature)\n",
    "pretty_print(feature)"
   ]
  },
  {
   "cell_type": "code",
   "execution_count": null,
   "metadata": {},
   "outputs": [],
   "source": [
    "import matplotlib.pyplot as plt\n",
    "\n",
    "def simplify_polygon(coords, tolerance):\n",
    "    simplified_coords = []  # Initialize list to store simplified coordinates\n",
    "    \n",
    "    # Add the first point to the simplified list\n",
    "    simplified_coords.append(coords[0])\n",
    "    \n",
    "    # Iterate through the coordinates and add points that are sufficiently far apart\n",
    "    for i in range(1, len(coords)):\n",
    "        if abs(coords[i][0] - simplified_coords[-1][0]) >= tolerance or abs(coords[i][1] - simplified_coords[-1][1]) >= tolerance:\n",
    "            simplified_coords.append(coords[i])\n",
    "    \n",
    "    return simplified_coords\n",
    "\n",
    "def plot_polygon(coords, color='blue', label=None):\n",
    "    # Extract x and y coordinates\n",
    "    x_coords, y_coords = zip(*coords)\n",
    "    \n",
    "    # Plot the points as dots\n",
    "    plt.plot(x_coords, y_coords, color=color, marker='o', linestyle='', label=label)\n",
    "    plt.fill(x_coords, y_coords, color=color, alpha=0.3)\n",
    "\n",
    "# Example usage:\n",
    "original_polygon_coords = extract_coordinates(feature)\n",
    "tolerance = 0.0003  # Adjust the tolerance as needed\n",
    "\n",
    "simplified_polygon_coords = simplify_polygon(original_polygon_coords, tolerance)\n",
    "print(len(original_polygon_coords) - len(simplified_polygon_coords))\n",
    "\n",
    "# Plot the original and simplified polygons\n",
    "plt.figure(figsize=(10, 5))\n",
    "\n",
    "plt.subplot(1, 2, 1)\n",
    "plot_polygon(original_polygon_coords, color='blue', label='Original Polygon')\n",
    "plt.title('Original Polygon')\n",
    "plt.xlabel('X')\n",
    "plt.ylabel('Y')\n",
    "plt.legend()\n",
    "\n",
    "plt.subplot(1, 2, 2)\n",
    "plot_polygon(simplified_polygon_coords, color='red', label='Simplified Polygon')\n",
    "plt.title('Simplified Polygon')\n",
    "plt.xlabel('X')\n",
    "plt.ylabel('Y')\n",
    "plt.legend()\n",
    "\n",
    "plt.tight_layout()\n",
    "plt.show()\n"
   ]
  }
 ],
 "metadata": {
  "kernelspec": {
   "display_name": "Python 3",
   "language": "python",
   "name": "python3"
  },
  "language_info": {
   "codemirror_mode": {
    "name": "ipython",
    "version": 3
   },
   "file_extension": ".py",
   "mimetype": "text/x-python",
   "name": "python",
   "nbconvert_exporter": "python",
   "pygments_lexer": "ipython3",
   "version": "3.12.1"
  }
 },
 "nbformat": 4,
 "nbformat_minor": 2
}
